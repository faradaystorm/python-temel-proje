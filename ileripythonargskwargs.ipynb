{
  "nbformat": 4,
  "nbformat_minor": 0,
  "metadata": {
    "colab": {
      "provenance": [],
      "authorship_tag": "ABX9TyM+0rfTmoKcaptzDDlxT1Jb",
      "include_colab_link": true
    },
    "kernelspec": {
      "name": "python3",
      "display_name": "Python 3"
    },
    "language_info": {
      "name": "python"
    }
  },
  "cells": [
    {
      "cell_type": "markdown",
      "metadata": {
        "id": "view-in-github",
        "colab_type": "text"
      },
      "source": [
        "<a href=\"https://colab.research.google.com/github/faradaystorm/python-temel-proje/blob/main/ileripythonargskwargs.ipynb\" target=\"_parent\"><img src=\"https://colab.research.google.com/assets/colab-badge.svg\" alt=\"Open In Colab\"/></a>"
      ]
    },
    {
      "cell_type": "markdown",
      "source": [
        "**1) Args** arguments\n",
        "değişken sayılı parametre vermenin bir yolu. list tuple objelerini unpack yapar ama dictionary objelerini yapmaz"
      ],
      "metadata": {
        "id": "wOv1Fiyvn0Mq"
      }
    },
    {
      "cell_type": "code",
      "execution_count": 1,
      "metadata": {
        "id": "-DrqxE8-niXB"
      },
      "outputs": [],
      "source": [
        "def sum(numbers):\n",
        "    res = 0\n",
        "    for e in numbers:\n",
        "        res += e\n",
        "    return res"
      ]
    },
    {
      "cell_type": "code",
      "source": [
        "numbers = [1, 2, 3, 4]"
      ],
      "metadata": {
        "id": "tRLsZExWopye"
      },
      "execution_count": 2,
      "outputs": []
    },
    {
      "cell_type": "code",
      "source": [
        "sum(numbers)"
      ],
      "metadata": {
        "colab": {
          "base_uri": "https://localhost:8080/"
        },
        "id": "l5NxF9R2oz01",
        "outputId": "512699ca-c818-46b1-e01d-d59968c7996d"
      },
      "execution_count": 3,
      "outputs": [
        {
          "output_type": "execute_result",
          "data": {
            "text/plain": [
              "10"
            ]
          },
          "metadata": {},
          "execution_count": 3
        }
      ]
    },
    {
      "cell_type": "code",
      "source": [
        "numbers = [1, 2]"
      ],
      "metadata": {
        "id": "My3FDZpho3mv"
      },
      "execution_count": 4,
      "outputs": []
    },
    {
      "cell_type": "code",
      "source": [
        "sum(numbers)"
      ],
      "metadata": {
        "colab": {
          "base_uri": "https://localhost:8080/"
        },
        "id": "9muzAyIGpE6U",
        "outputId": "8c4a2d80-f8c3-484d-8d4a-e1ed1c152c0f"
      },
      "execution_count": 5,
      "outputs": [
        {
          "output_type": "execute_result",
          "data": {
            "text/plain": [
              "3"
            ]
          },
          "metadata": {},
          "execution_count": 5
        }
      ]
    },
    {
      "cell_type": "markdown",
      "source": [
        "Args'ın anlamı, en başta liste/tuple gibi bir objem vardı ama bunu tek tek elemanlarına ayırdım demek"
      ],
      "metadata": {
        "id": "53vphuZapJIZ"
      }
    },
    {
      "cell_type": "code",
      "source": [
        "def sum(*args):\n",
        "    res = 0\n",
        "    for e in args:\n",
        "        res += e\n",
        "    return res"
      ],
      "metadata": {
        "id": "QixI1n8vpUU7"
      },
      "execution_count": 6,
      "outputs": []
    },
    {
      "cell_type": "code",
      "source": [
        "# *args = 1, 2, 3, 4 olduğunu varsayacak, yani args ın tek tek elemanlarına ayrılmış hali 1, 2, 3, 4, o zaman orijinali: args= (1,2,3,4)\n",
        "sum(1, 2, 3, 4)"
      ],
      "metadata": {
        "colab": {
          "base_uri": "https://localhost:8080/"
        },
        "id": "1x64reHQpoYl",
        "outputId": "fee4184e-515f-4d5a-fe7d-4b2eb7e3f08c"
      },
      "execution_count": 9,
      "outputs": [
        {
          "output_type": "stream",
          "name": "stdout",
          "text": [
            "<class 'tuple'>\n",
            "(1, 2, 3, 4)\n"
          ]
        },
        {
          "output_type": "execute_result",
          "data": {
            "text/plain": [
              "10"
            ]
          },
          "metadata": {},
          "execution_count": 9
        }
      ]
    },
    {
      "cell_type": "code",
      "source": [
        "def sum (*numbers):\n",
        "    res = 0\n",
        "    print(type(numbers))\n",
        "    print(numbers)\n",
        "    for e in numbers:\n",
        "        res += e\n",
        "    return res"
      ],
      "metadata": {
        "id": "lJ2ZFUZvq69T"
      },
      "execution_count": 7,
      "outputs": []
    },
    {
      "cell_type": "code",
      "source": [
        "sum(1, 2, 3, 4)"
      ],
      "metadata": {
        "colab": {
          "base_uri": "https://localhost:8080/"
        },
        "id": "3fRNdenlrYpr",
        "outputId": "20c48a85-be45-4598-d8a8-67683bed0843"
      },
      "execution_count": 8,
      "outputs": [
        {
          "output_type": "stream",
          "name": "stdout",
          "text": [
            "<class 'tuple'>\n",
            "(1, 2, 3, 4)\n"
          ]
        },
        {
          "output_type": "execute_result",
          "data": {
            "text/plain": [
              "10"
            ]
          },
          "metadata": {},
          "execution_count": 8
        }
      ]
    },
    {
      "cell_type": "code",
      "source": [
        "# *args = 1, 2 olduğunu varsayacak, yani args'ın tek tek elemanlarına ayrılmış hali 1, 2 orijinali: args = (1, 2)\n",
        "sum (1, 2)"
      ],
      "metadata": {
        "colab": {
          "base_uri": "https://localhost:8080/"
        },
        "id": "bGmDOCpKrbHK",
        "outputId": "89d62deb-953c-477e-cf7d-550f2e64c8c2"
      },
      "execution_count": 12,
      "outputs": [
        {
          "output_type": "stream",
          "name": "stdout",
          "text": [
            "<class 'tuple'>\n",
            "(1, 2)\n"
          ]
        },
        {
          "output_type": "execute_result",
          "data": {
            "text/plain": [
              "3"
            ]
          },
          "metadata": {},
          "execution_count": 12
        }
      ]
    },
    {
      "cell_type": "code",
      "source": [
        "def sum_2(*args):\n",
        "    res = 0\n",
        "    print(type(args))\n",
        "    print (args)\n",
        "    print(len(args))\n",
        "    for e in args:\n",
        "        for j in e:\n",
        "            res += j\n",
        "    return res"
      ],
      "metadata": {
        "id": "tYWc0u5BsMz0"
      },
      "execution_count": 14,
      "outputs": []
    },
    {
      "cell_type": "code",
      "source": [
        "sum_2([1, 2])"
      ],
      "metadata": {
        "colab": {
          "base_uri": "https://localhost:8080/"
        },
        "id": "ohr8MuJ3sp4z",
        "outputId": "e0f34303-df83-46d3-b3ea-c831f23a96b6"
      },
      "execution_count": 15,
      "outputs": [
        {
          "output_type": "stream",
          "name": "stdout",
          "text": [
            "<class 'tuple'>\n",
            "([1, 2],)\n",
            "1\n"
          ]
        },
        {
          "output_type": "execute_result",
          "data": {
            "text/plain": [
              "3"
            ]
          },
          "metadata": {},
          "execution_count": 15
        }
      ]
    },
    {
      "cell_type": "markdown",
      "source": [
        "**Kwargs**\n",
        "Fonksiyona değişken sayıda keyword argument verebilmemizi sağlar."
      ],
      "metadata": {
        "id": "vJHs4m4_s4rr"
      }
    },
    {
      "cell_type": "code",
      "source": [
        "def students(**kwargs):\n",
        "\n",
        "    for v in kwargs.values():\n",
        "        print(v)"
      ],
      "metadata": {
        "id": "-9aZbmF8tDCs"
      },
      "execution_count": 16,
      "outputs": []
    },
    {
      "cell_type": "code",
      "source": [
        "students(name=\"Jake\", student_number = \"401\")"
      ],
      "metadata": {
        "colab": {
          "base_uri": "https://localhost:8080/"
        },
        "id": "Sg9zuavDtPuj",
        "outputId": "ac7fb38f-fa4f-4146-958a-117199952867"
      },
      "execution_count": 17,
      "outputs": [
        {
          "output_type": "stream",
          "name": "stdout",
          "text": [
            "Jake\n",
            "401\n"
          ]
        }
      ]
    },
    {
      "cell_type": "code",
      "source": [
        "def students(**students):\n",
        "    print(students)\n",
        "    for v in students:\n",
        "        print(v)"
      ],
      "metadata": {
        "id": "R51F2CTftpHh"
      },
      "execution_count": 18,
      "outputs": []
    },
    {
      "cell_type": "code",
      "source": [
        "students(name=\"Jake\", student_number = \"401\")"
      ],
      "metadata": {
        "colab": {
          "base_uri": "https://localhost:8080/"
        },
        "id": "gDmmhZTEt1wy",
        "outputId": "622e1035-70dc-447c-aa13-d28fac4c58d6"
      },
      "execution_count": 19,
      "outputs": [
        {
          "output_type": "stream",
          "name": "stdout",
          "text": [
            "{'name': 'Jake', 'student_number': '401'}\n",
            "name\n",
            "student_number\n"
          ]
        }
      ]
    },
    {
      "cell_type": "markdown",
      "source": [
        "**using args  and kwargs together**\n",
        "\n",
        "kullanım sırası önemli oluyor"
      ],
      "metadata": {
        "id": "zKxg1V4tuE0a"
      }
    },
    {
      "cell_type": "code",
      "source": [
        "def weird(**kwargs, *args):\n",
        "    res = 0\n",
        "    for e in args:\n",
        "        res += e\n",
        "\n",
        "    for k,v in kwargs.items():\n",
        "        print(k,\":\", v)\n",
        "\n",
        "    return res"
      ],
      "metadata": {
        "colab": {
          "base_uri": "https://localhost:8080/",
          "height": 130
        },
        "id": "5d5b4yLVuDb2",
        "outputId": "e19a2820-0c69-4f02-9912-d574d0468df3"
      },
      "execution_count": 20,
      "outputs": [
        {
          "output_type": "error",
          "ename": "SyntaxError",
          "evalue": "ignored",
          "traceback": [
            "\u001b[0;36m  File \u001b[0;32m\"<ipython-input-20-6a5682c00c94>\"\u001b[0;36m, line \u001b[0;32m1\u001b[0m\n\u001b[0;31m    def weird(**kwargs, *args):\u001b[0m\n\u001b[0m                        ^\u001b[0m\n\u001b[0;31mSyntaxError\u001b[0m\u001b[0;31m:\u001b[0m invalid syntax\n"
          ]
        }
      ]
    },
    {
      "cell_type": "code",
      "source": [
        "def weird(*args, **kwargs):\n",
        "    res = 0\n",
        "    for e in args:\n",
        "        res += e\n",
        "\n",
        "    for k,v in kwargs.items():\n",
        "        print(k,\":\", v)\n",
        "\n",
        "    return res"
      ],
      "metadata": {
        "id": "0AQCiZuhu6Ci"
      },
      "execution_count": 21,
      "outputs": []
    },
    {
      "cell_type": "code",
      "source": [
        "weird(1, 2, 3, name=\"Jake\", student_number=401)"
      ],
      "metadata": {
        "colab": {
          "base_uri": "https://localhost:8080/"
        },
        "id": "DtGi1aggu-ST",
        "outputId": "4c8ad78e-17eb-4833-fa9f-a6ebeb1a93a1"
      },
      "execution_count": 22,
      "outputs": [
        {
          "output_type": "stream",
          "name": "stdout",
          "text": [
            "name : Jake\n",
            "student_number : 401\n"
          ]
        },
        {
          "output_type": "execute_result",
          "data": {
            "text/plain": [
              "6"
            ]
          },
          "metadata": {},
          "execution_count": 22
        }
      ]
    },
    {
      "cell_type": "code",
      "source": [
        "weird(1, 2, 3, 4, 5, 6, name=\"Jake\", student_number=401, age= 24)"
      ],
      "metadata": {
        "colab": {
          "base_uri": "https://localhost:8080/"
        },
        "id": "Lw63yrK2vWmR",
        "outputId": "112b8edd-b465-46d2-aa39-f6c9c5404fb5"
      },
      "execution_count": 24,
      "outputs": [
        {
          "output_type": "stream",
          "name": "stdout",
          "text": [
            "name : Jake\n",
            "student_number : 401\n",
            "age : 24\n"
          ]
        },
        {
          "output_type": "execute_result",
          "data": {
            "text/plain": [
              "21"
            ]
          },
          "metadata": {},
          "execution_count": 24
        }
      ]
    },
    {
      "cell_type": "markdown",
      "source": [
        "**Unpacking**"
      ],
      "metadata": {
        "id": "yaFOMvzZvs1T"
      }
    },
    {
      "cell_type": "code",
      "source": [
        "l =[1, 2, 3, 4]"
      ],
      "metadata": {
        "id": "3pHWtmYzvyT7"
      },
      "execution_count": 25,
      "outputs": []
    },
    {
      "cell_type": "code",
      "source": [
        "print(l)"
      ],
      "metadata": {
        "colab": {
          "base_uri": "https://localhost:8080/"
        },
        "id": "-JQx26-wv6lB",
        "outputId": "07c8dd14-559e-4794-f69b-0d4dbd181e57"
      },
      "execution_count": 26,
      "outputs": [
        {
          "output_type": "stream",
          "name": "stdout",
          "text": [
            "[1, 2, 3, 4]\n"
          ]
        }
      ]
    },
    {
      "cell_type": "code",
      "source": [
        "print(*l)"
      ],
      "metadata": {
        "colab": {
          "base_uri": "https://localhost:8080/"
        },
        "id": "F_vi0k90v9gs",
        "outputId": "cf4f40da-9ed7-46c6-e9e1-68d16dfe8909"
      },
      "execution_count": 27,
      "outputs": [
        {
          "output_type": "stream",
          "name": "stdout",
          "text": [
            "1 2 3 4\n"
          ]
        }
      ]
    },
    {
      "cell_type": "code",
      "source": [
        "l1 = [1, 2, 3, 4]"
      ],
      "metadata": {
        "id": "tlsbXmIhwChL"
      },
      "execution_count": 28,
      "outputs": []
    },
    {
      "cell_type": "code",
      "source": [
        "l2 = [20, 21]"
      ],
      "metadata": {
        "id": "Fk3C3bUPwHKO"
      },
      "execution_count": 29,
      "outputs": []
    },
    {
      "cell_type": "code",
      "source": [
        "merged_l = [*l1, *l2]"
      ],
      "metadata": {
        "id": "_A_uNCJ9wMJ7"
      },
      "execution_count": 30,
      "outputs": []
    },
    {
      "cell_type": "code",
      "source": [
        "merged_l"
      ],
      "metadata": {
        "colab": {
          "base_uri": "https://localhost:8080/"
        },
        "id": "P0zAgYiEwUPK",
        "outputId": "6b3a5f63-f87e-4dd1-bcde-18db67e2ad5a"
      },
      "execution_count": 32,
      "outputs": [
        {
          "output_type": "execute_result",
          "data": {
            "text/plain": [
              "[1, 2, 3, 4, 20, 21]"
            ]
          },
          "metadata": {},
          "execution_count": 32
        }
      ]
    },
    {
      "cell_type": "code",
      "source": [
        "d1 = {\"name\":\"Jake\", \"number\": 402}"
      ],
      "metadata": {
        "id": "g2spN20awut5"
      },
      "execution_count": 33,
      "outputs": []
    },
    {
      "cell_type": "code",
      "source": [
        "d2 = {\"last_name\":\"Sky\", \"grade\": 74}"
      ],
      "metadata": {
        "id": "72ROWCDjw62i"
      },
      "execution_count": 34,
      "outputs": []
    },
    {
      "cell_type": "code",
      "source": [
        "d1+ d2"
      ],
      "metadata": {
        "colab": {
          "base_uri": "https://localhost:8080/",
          "height": 165
        },
        "id": "wE6e7kH9x1vS",
        "outputId": "bc3aa2de-2ffc-4f8b-c5b8-f38e9a4cbf25"
      },
      "execution_count": 35,
      "outputs": [
        {
          "output_type": "error",
          "ename": "TypeError",
          "evalue": "ignored",
          "traceback": [
            "\u001b[0;31m---------------------------------------------------------------------------\u001b[0m",
            "\u001b[0;31mTypeError\u001b[0m                                 Traceback (most recent call last)",
            "\u001b[0;32m<ipython-input-35-ecb70fef2d3b>\u001b[0m in \u001b[0;36m<cell line: 1>\u001b[0;34m()\u001b[0m\n\u001b[0;32m----> 1\u001b[0;31m \u001b[0md1\u001b[0m\u001b[0;34m+\u001b[0m \u001b[0md2\u001b[0m\u001b[0;34m\u001b[0m\u001b[0;34m\u001b[0m\u001b[0m\n\u001b[0m",
            "\u001b[0;31mTypeError\u001b[0m: unsupported operand type(s) for +: 'dict' and 'dict'"
          ]
        }
      ]
    },
    {
      "cell_type": "code",
      "source": [
        "d_merged = {**d1, **d2}"
      ],
      "metadata": {
        "id": "piEG4qqgx5kZ"
      },
      "execution_count": 36,
      "outputs": []
    },
    {
      "cell_type": "code",
      "source": [
        "d_merged"
      ],
      "metadata": {
        "colab": {
          "base_uri": "https://localhost:8080/"
        },
        "id": "MbxfXw8Wx_fx",
        "outputId": "3bcd0f8c-5884-40f0-c2e7-118f9bf21a36"
      },
      "execution_count": 37,
      "outputs": [
        {
          "output_type": "execute_result",
          "data": {
            "text/plain": [
              "{'name': 'Jake', 'number': 402, 'last_name': 'Sky', 'grade': 74}"
            ]
          },
          "metadata": {},
          "execution_count": 37
        }
      ]
    },
    {
      "cell_type": "code",
      "source": [
        "d1 = {\"name\":\"Jake\", \"number\": 402}\n",
        "d3 = {\"name\":\"Sky\", \"grade\": 74}"
      ],
      "metadata": {
        "id": "SskiQ-wsyFeV"
      },
      "execution_count": 38,
      "outputs": []
    },
    {
      "cell_type": "code",
      "source": [
        "d_merged_3 = {**d1, **d3}  #en güncel değeri alıyor"
      ],
      "metadata": {
        "id": "3hJjREdqymLL"
      },
      "execution_count": 39,
      "outputs": []
    },
    {
      "cell_type": "code",
      "source": [
        "d_merged_3"
      ],
      "metadata": {
        "colab": {
          "base_uri": "https://localhost:8080/"
        },
        "id": "Nlum4hX6ysfz",
        "outputId": "c240b08e-0d38-4fa3-b48b-cf60d4185c19"
      },
      "execution_count": 40,
      "outputs": [
        {
          "output_type": "execute_result",
          "data": {
            "text/plain": [
              "{'name': 'Sky', 'number': 402, 'grade': 74}"
            ]
          },
          "metadata": {},
          "execution_count": 40
        }
      ]
    },
    {
      "cell_type": "code",
      "source": [
        "d_merged_2 = {\"d1\":d1, \"d2\":d2}"
      ],
      "metadata": {
        "id": "Mgd8xH92y5By"
      },
      "execution_count": 41,
      "outputs": []
    },
    {
      "cell_type": "code",
      "source": [
        "d_merged_2"
      ],
      "metadata": {
        "colab": {
          "base_uri": "https://localhost:8080/"
        },
        "id": "Ps_HJ2x_zECo",
        "outputId": "305f1ddc-a1f3-41bb-b981-b931abdc05b4"
      },
      "execution_count": 42,
      "outputs": [
        {
          "output_type": "execute_result",
          "data": {
            "text/plain": [
              "{'d1': {'name': 'Jake', 'number': 402},\n",
              " 'd2': {'last_name': 'Sky', 'grade': 74}}"
            ]
          },
          "metadata": {},
          "execution_count": 42
        }
      ]
    },
    {
      "cell_type": "code",
      "source": [
        "str_list = [*\"hey this is a string\"]"
      ],
      "metadata": {
        "id": "nHPDhehgzLGY"
      },
      "execution_count": 45,
      "outputs": []
    },
    {
      "cell_type": "code",
      "source": [
        "str_list"
      ],
      "metadata": {
        "colab": {
          "base_uri": "https://localhost:8080/"
        },
        "id": "4XFY6cRmzZYA",
        "outputId": "30d2fc0e-30d8-4756-c743-8f774b0d3d79"
      },
      "execution_count": 46,
      "outputs": [
        {
          "output_type": "execute_result",
          "data": {
            "text/plain": [
              "['h',\n",
              " 'e',\n",
              " 'y',\n",
              " ' ',\n",
              " 't',\n",
              " 'h',\n",
              " 'i',\n",
              " 's',\n",
              " ' ',\n",
              " 'i',\n",
              " 's',\n",
              " ' ',\n",
              " 'a',\n",
              " ' ',\n",
              " 's',\n",
              " 't',\n",
              " 'r',\n",
              " 'i',\n",
              " 'n',\n",
              " 'g']"
            ]
          },
          "metadata": {},
          "execution_count": 46
        }
      ]
    },
    {
      "cell_type": "code",
      "source": [
        "str_list = [*\"hey\"]"
      ],
      "metadata": {
        "id": "EJaTzZTFzk9s"
      },
      "execution_count": 47,
      "outputs": []
    },
    {
      "cell_type": "code",
      "source": [
        "str_list"
      ],
      "metadata": {
        "colab": {
          "base_uri": "https://localhost:8080/"
        },
        "id": "QRu4gbVnzpnz",
        "outputId": "b6fb1515-9439-4569-a5d1-44cef9685c4b"
      },
      "execution_count": 48,
      "outputs": [
        {
          "output_type": "execute_result",
          "data": {
            "text/plain": [
              "['h', 'e', 'y']"
            ]
          },
          "metadata": {},
          "execution_count": 48
        }
      ]
    }
  ]
}